{
 "cells": [
  {
   "cell_type": "code",
   "execution_count": 27,
   "metadata": {},
   "outputs": [],
   "source": [
    "import cv2\n",
    "import numpy as np\n",
    "import pandas as pd\n",
    "images = []\n",
    "for dirname, _, filenames in os.walk('classification'):\n",
    "    for filename in filenames:\n",
    "        img = cv2.imread(os.path.join(dirname, filename))\n",
    "        images.append(img)\n",
    "images = np.asarray(images)"
   ]
  },
  {
   "cell_type": "code",
   "execution_count": 28,
   "metadata": {},
   "outputs": [],
   "source": [
    "labels = []\n",
    "for dirname, _, filenames in os.walk('csvs'):\n",
    "    for filename in filenames:\n",
    "        labs = pd.read_csv(os.path.join(dirname, filename))['label'].dropna().values\n",
    "        labels.append(labs)\n",
    "labels = np.asarray(labels).reshape(-1)"
   ]
  },
  {
   "cell_type": "code",
   "execution_count": 29,
   "metadata": {},
   "outputs": [
    {
     "data": {
      "text/plain": [
       "True"
      ]
     },
     "execution_count": 29,
     "metadata": {},
     "output_type": "execute_result"
    }
   ],
   "source": [
    "import torch\n",
    "import torch.nn as nn\n",
    "import torchvision.transforms as transforms\n",
    "import torchvision.datasets as datasets\n",
    "from torch.autograd import Variable\n",
    "torch.cuda.is_available()"
   ]
  },
  {
   "cell_type": "code",
   "execution_count": 66,
   "metadata": {},
   "outputs": [],
   "source": [
    "class CNN(nn.Module):\n",
    "  def __init__(self):\n",
    "    super(CNN,self).__init__()\n",
    "    # input_size:28, same_padding=(filter_size-1)/2, 3-1/2=1:padding\n",
    "    self.cnn1=nn.Conv2d(in_channels=3, out_channels=8, kernel_size=3, stride=1, padding=1)\n",
    "    # input_size-filter_size +2(padding)/stride + 1 = 28-3+2(1)/1+1=28\n",
    "    self.batchnorm1=nn.BatchNorm2d(8)\n",
    "    # output_channel:8, batch(8)\n",
    "    self.relu=nn.ReLU()\n",
    "    self.maxpool1=nn.MaxPool2d(kernel_size=2)\n",
    "    #input_size=28/2=14\n",
    "    self.cnn2=nn.Conv2d(in_channels=8, out_channels=32, kernel_size=5, stride=1, padding=2)\n",
    "    # same_padding: (5-1)/2=2:padding_size. \n",
    "    self.batchnorm2=nn.BatchNorm2d(32)\n",
    "    self.maxpool2=nn.MaxPool2d(kernel_size=2)\n",
    "    # input_size=14/2=7\n",
    "    # 32x7x7=1568\n",
    "    self.fc1 =nn.Linear(in_features=32*32*32, out_features=600)\n",
    "    self.dropout= nn.Dropout(p=0.5)\n",
    "    self.fc2 =nn.Linear(in_features=600, out_features=2)\n",
    "  def forward(self,x):\n",
    "    out =self.cnn1(x)\n",
    "    out =self.batchnorm1(out)\n",
    "    out =self.relu(out)\n",
    "    out =self.maxpool1(out)\n",
    "    out =self.cnn2(out)\n",
    "    out =self.batchnorm2(out)\n",
    "    out =self.relu(out)\n",
    "    out =self.maxpool2(out)\n",
    "    out =out.view(64,32*32*32)\n",
    "    out =self.fc1(out)\n",
    "    out =self.relu(out)\n",
    "    out =self.dropout(out)\n",
    "    out =self.fc2(out)\n",
    "    return out"
   ]
  },
  {
   "cell_type": "code",
   "execution_count": 67,
   "metadata": {},
   "outputs": [],
   "source": [
    "model=CNN()\n",
    "CUDA=torch.cuda.is_available()\n",
    "if CUDA:\n",
    "  model=model.cuda()\n",
    "loss_function=nn.CrossEntropyLoss()\n",
    "optimizer=torch.optim.SGD(model.parameters(), lr=0.01)"
   ]
  },
  {
   "cell_type": "code",
   "execution_count": 94,
   "metadata": {},
   "outputs": [],
   "source": [
    "import torchvision\n",
    "import torch\n",
    "from torch.utils import data\n",
    "\n",
    "class Dataset(data.Dataset):\n",
    "  'Characterizes a dataset for PyTorch'\n",
    "  def __init__(self, images, labels):\n",
    "        'Initialization'\n",
    "        self.labels = labels\n",
    "        self.images = images / 255.0\n",
    "\n",
    "  def __len__(self):\n",
    "        'Denotes the total number of samples'\n",
    "        return len(self.images)\n",
    "\n",
    "  def __getitem__(self, index):\n",
    "        'Generates one sample of data'\n",
    "        # Select sample\n",
    "\n",
    "        return self.images[index], self.labels[index]"
   ]
  },
  {
   "cell_type": "code",
   "execution_count": 95,
   "metadata": {},
   "outputs": [],
   "source": [
    "# Generators\n",
    "from torch.utils import data\n",
    "\n",
    "# Parameters\n",
    "params = {'batch_size': 64,\n",
    "          'shuffle': True,\n",
    "         'drop_last': True}\n",
    "\n",
    "training_set = Dataset(images, labels)\n",
    "training_generator = data.DataLoader(training_set, **params)"
   ]
  },
  {
   "cell_type": "code",
   "execution_count": 96,
   "metadata": {},
   "outputs": [
    {
     "name": "stdout",
     "output_type": "stream",
     "text": [
      "Iteration: 99, Train Loss: 0.4839556813240051, Test Accuracy:42%\n",
      "Iteration: 199, Train Loss: 0.5545804500579834, Test Accuracy:42%\n"
     ]
    },
    {
     "ename": "KeyboardInterrupt",
     "evalue": "",
     "output_type": "error",
     "traceback": [
      "\u001b[1;31m---------------------------------------------------------------------------\u001b[0m",
      "\u001b[1;31mKeyboardInterrupt\u001b[0m                         Traceback (most recent call last)",
      "\u001b[1;32m<ipython-input-96-ee396b2dfe40>\u001b[0m in \u001b[0;36m<module>\u001b[1;34m\u001b[0m\n\u001b[0;32m     14\u001b[0m     \u001b[0moutputs\u001b[0m\u001b[1;33m=\u001b[0m\u001b[0mmodel\u001b[0m\u001b[1;33m(\u001b[0m\u001b[0mimages\u001b[0m\u001b[1;33m)\u001b[0m\u001b[1;33m\u001b[0m\u001b[0m\n\u001b[0;32m     15\u001b[0m     \u001b[0mloss\u001b[0m\u001b[1;33m=\u001b[0m\u001b[0mloss_function\u001b[0m\u001b[1;33m(\u001b[0m\u001b[0moutputs\u001b[0m\u001b[1;33m,\u001b[0m\u001b[0mlabels\u001b[0m\u001b[1;33m)\u001b[0m\u001b[1;33m\u001b[0m\u001b[0m\n\u001b[1;32m---> 16\u001b[1;33m     \u001b[0mloss\u001b[0m\u001b[1;33m.\u001b[0m\u001b[0mbackward\u001b[0m\u001b[1;33m(\u001b[0m\u001b[1;33m)\u001b[0m\u001b[1;33m\u001b[0m\u001b[0m\n\u001b[0m\u001b[0;32m     17\u001b[0m     \u001b[0moptimizer\u001b[0m\u001b[1;33m.\u001b[0m\u001b[0mstep\u001b[0m\u001b[1;33m(\u001b[0m\u001b[1;33m)\u001b[0m\u001b[1;33m\u001b[0m\u001b[0m\n\u001b[0;32m     18\u001b[0m \u001b[1;33m\u001b[0m\u001b[0m\n",
      "\u001b[1;32mC:\\Anaconda3\\lib\\site-packages\\torch\\tensor.py\u001b[0m in \u001b[0;36mbackward\u001b[1;34m(self, gradient, retain_graph, create_graph)\u001b[0m\n\u001b[0;32m    100\u001b[0m                 \u001b[0mproducts\u001b[0m\u001b[1;33m.\u001b[0m \u001b[0mDefaults\u001b[0m \u001b[0mto\u001b[0m\u001b[0;31m \u001b[0m\u001b[0;31m`\u001b[0m\u001b[0;31m`\u001b[0m\u001b[1;32mFalse\u001b[0m\u001b[0;31m`\u001b[0m\u001b[0;31m`\u001b[0m\u001b[1;33m.\u001b[0m\u001b[1;33m\u001b[0m\u001b[0m\n\u001b[0;32m    101\u001b[0m         \"\"\"\n\u001b[1;32m--> 102\u001b[1;33m         \u001b[0mtorch\u001b[0m\u001b[1;33m.\u001b[0m\u001b[0mautograd\u001b[0m\u001b[1;33m.\u001b[0m\u001b[0mbackward\u001b[0m\u001b[1;33m(\u001b[0m\u001b[0mself\u001b[0m\u001b[1;33m,\u001b[0m \u001b[0mgradient\u001b[0m\u001b[1;33m,\u001b[0m \u001b[0mretain_graph\u001b[0m\u001b[1;33m,\u001b[0m \u001b[0mcreate_graph\u001b[0m\u001b[1;33m)\u001b[0m\u001b[1;33m\u001b[0m\u001b[0m\n\u001b[0m\u001b[0;32m    103\u001b[0m \u001b[1;33m\u001b[0m\u001b[0m\n\u001b[0;32m    104\u001b[0m     \u001b[1;32mdef\u001b[0m \u001b[0mregister_hook\u001b[0m\u001b[1;33m(\u001b[0m\u001b[0mself\u001b[0m\u001b[1;33m,\u001b[0m \u001b[0mhook\u001b[0m\u001b[1;33m)\u001b[0m\u001b[1;33m:\u001b[0m\u001b[1;33m\u001b[0m\u001b[0m\n",
      "\u001b[1;32mC:\\Anaconda3\\lib\\site-packages\\torch\\autograd\\__init__.py\u001b[0m in \u001b[0;36mbackward\u001b[1;34m(tensors, grad_tensors, retain_graph, create_graph, grad_variables)\u001b[0m\n\u001b[0;32m     88\u001b[0m     Variable._execution_engine.run_backward(\n\u001b[0;32m     89\u001b[0m         \u001b[0mtensors\u001b[0m\u001b[1;33m,\u001b[0m \u001b[0mgrad_tensors\u001b[0m\u001b[1;33m,\u001b[0m \u001b[0mretain_graph\u001b[0m\u001b[1;33m,\u001b[0m \u001b[0mcreate_graph\u001b[0m\u001b[1;33m,\u001b[0m\u001b[1;33m\u001b[0m\u001b[0m\n\u001b[1;32m---> 90\u001b[1;33m         allow_unreachable=True)  # allow_unreachable flag\n\u001b[0m\u001b[0;32m     91\u001b[0m \u001b[1;33m\u001b[0m\u001b[0m\n\u001b[0;32m     92\u001b[0m \u001b[1;33m\u001b[0m\u001b[0m\n",
      "\u001b[1;31mKeyboardInterrupt\u001b[0m: "
     ]
    }
   ],
   "source": [
    "iteration=0\n",
    "epochs=1000\n",
    "for epoch in range(epochs):\n",
    "  for i, (images,labels) in enumerate(training_generator):\n",
    "    iteration+=1\n",
    "    if CUDA:\n",
    "      images =Variable(images.cuda())\n",
    "      labels =Variable(labels.cuda())\n",
    "    else:\n",
    "      images =Variable(images)\n",
    "      labels =Variable(labels)\n",
    "      \n",
    "    optimizer.zero_grad()\n",
    "    outputs=model(images)\n",
    "    loss=loss_function(outputs,labels)\n",
    "    loss.backward()\n",
    "    optimizer.step()\n",
    "    \n",
    "    if(iteration+1)%100 ==0:\n",
    "        correct =0\n",
    "        total =0\n",
    "        for images,labels in training_generator:\n",
    "            if CUDA:\n",
    "              images =Variable(images.cuda())\n",
    "            else:\n",
    "              images =Variable(images)\n",
    "\n",
    "            outputs=model(images)\n",
    "            _,predicted=torch.max(outputs.data,1)\n",
    "            total+=labels.size(0)\n",
    "            if CUDA:\n",
    "              correct += (predicted.cpu()==labels.cpu()).sum()\n",
    "            else:\n",
    "              correct += (predicted==labels).sum()\n",
    "\n",
    "        accuracy = 100 *correct/total\n",
    "        print(\"Iteration: {}, Train Loss: {}, Test Accuracy:{}%\".format(iteration, loss.item(),accuracy))\n",
    "        \n",
    "print(\"Finished!\")\n",
    "    "
   ]
  },
  {
   "cell_type": "code",
   "execution_count": null,
   "metadata": {},
   "outputs": [],
   "source": []
  }
 ],
 "metadata": {
  "kernelspec": {
   "display_name": "Python 3",
   "language": "python",
   "name": "python3"
  },
  "language_info": {
   "codemirror_mode": {
    "name": "ipython",
    "version": 3
   },
   "file_extension": ".py",
   "mimetype": "text/x-python",
   "name": "python",
   "nbconvert_exporter": "python",
   "pygments_lexer": "ipython3",
   "version": "3.6.6"
  }
 },
 "nbformat": 4,
 "nbformat_minor": 2
}
