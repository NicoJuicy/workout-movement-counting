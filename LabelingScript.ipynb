{
 "cells": [
  {
   "cell_type": "code",
   "execution_count": 7,
   "metadata": {},
   "outputs": [],
   "source": [
    "import pandas as pd\n",
    "import numpy as np\n",
    "import matplotlib.pyplot as plt\n",
    "import cv2\n",
    "import os\n",
    "import re\n",
    "%matplotlib inline\n",
    "\n",
    "\n",
    "isTrain = False\n",
    "if isTrain:\n",
    "    folders = {'flow': 'OptFlowTrain/',\n",
    "                'frames': 'FramesTrain/'}\n",
    "else:\n",
    "    folders = {'flow': 'OptFlowTest/',\n",
    "               'frames': 'FramesTest/'}"
   ]
  },
  {
   "cell_type": "code",
   "execution_count": 8,
   "metadata": {},
   "outputs": [],
   "source": [
    "'''\n",
    "From: https://stackoverflow.com/questions/4623446/how-do-you-sort-files-numerically\n",
    "'''\n",
    "def tryint(s):\n",
    "    try:\n",
    "        return int(s)\n",
    "    except:\n",
    "        return s\n",
    "\n",
    "def alphanum_key(s):\n",
    "    \"\"\" Turn a string into a list of string and number chunks.\n",
    "        \"z23a\" -> [\"z\", 23, \"a\"]\n",
    "    \"\"\"\n",
    "    return [ tryint(c) for c in re.split('([0-9]+)', s) ]"
   ]
  },
  {
   "cell_type": "code",
   "execution_count": 9,
   "metadata": {},
   "outputs": [],
   "source": [
    "from IPython.display import clear_output\n",
    "labels = []\n",
    "for image in sorted(os.listdir(folders['frames']), key=alphanum_key):\n",
    "    imPath = folders['frames'] + image\n",
    "    flowPath = folders['flow'] + image\n",
    "    \n",
    "    im, flow = cv2.imread(imPath), cv2.imread(flowPath)\n",
    "    f, ax = plt.subplots(1,2, figsize = (10, 10))\n",
    "    ax[0].imshow(im)\n",
    "    ax[1].imshow(flow)\n",
    "    plt.show()\n",
    "    \n",
    "    print('Enter label: \\n')\n",
    "    print('0 - going down, 1 - going up, 2 - not in move scope')\n",
    "    label = int(input())\n",
    "    labels.append(label)\n",
    "    print('\\n\\n\\n')\n",
    "    clear_output()"
   ]
  },
  {
   "cell_type": "code",
   "execution_count": 10,
   "metadata": {},
   "outputs": [],
   "source": [
    "## import pandas as pd\n",
    "labels = pd.DataFrame([sorted(os.listdir(folders['frames']), key=alphanum_key), labels]).T\n",
    "labels.columns = ['frame', 'label']\n",
    "if isTrain:\n",
    "    labels.to_csv('train_labels.csv', index = None)\n",
    "else:\n",
    "    labels.to_csv('test_labels.csv', index = None)"
   ]
  },
  {
   "cell_type": "code",
   "execution_count": null,
   "metadata": {},
   "outputs": [],
   "source": []
  }
 ],
 "metadata": {
  "kernelspec": {
   "display_name": "Python 3",
   "language": "python",
   "name": "python3"
  },
  "language_info": {
   "codemirror_mode": {
    "name": "ipython",
    "version": 3
   },
   "file_extension": ".py",
   "mimetype": "text/x-python",
   "name": "python",
   "nbconvert_exporter": "python",
   "pygments_lexer": "ipython3",
   "version": "3.6.6"
  }
 },
 "nbformat": 4,
 "nbformat_minor": 2
}
